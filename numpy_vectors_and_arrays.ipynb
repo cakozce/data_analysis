{
 "cells": [
  {
   "cell_type": "markdown",
   "metadata": {},
   "source": [
    "Эти задания помогают студенту самостоятельно разобраться с библиотекой `NumPy`. Задания не проверяются.\n",
    "\n",
    "Для импорта модуля `numpy` необходимо выполнить простую команду:"
   ]
  },
  {
   "cell_type": "code",
   "execution_count": null,
   "metadata": {
    "collapsed": true
   },
   "outputs": [],
   "source": [
    "import numpy"
   ]
  },
  {
   "cell_type": "markdown",
   "metadata": {},
   "source": [
    "**Генерация случайной матрицы**\n",
    "\n",
    "Сгенерируйте матрицу, состоящую из `1000` строк и `50` столбцов, элементы которой являются случайными из нормального распределения `N(1,100)`.\n",
    "\n",
    "Функция для генерации чисел из нормального распределения: [numpy.random.normal](http://docs.scipy.org/doc/numpy/reference/generated/numpy.random.normal.html)\n",
    "\n",
    "Параметры:\n",
    "\n",
    "- `loc`: среднее нормального распределения (в нашем случае 1)\n",
    "- `scale`: стандартное отклонение нормального распределения (в нашем случае 10)\n",
    "- `size`: размер матрицы (в нашем случае (1000, 50))\n",
    "\n",
    "***Код для самопроверки***"
   ]
  },
  {
   "cell_type": "code",
   "execution_count": null,
   "metadata": {
    "collapsed": false
   },
   "outputs": [],
   "source": [
    "X = numpy.random.normal(loc=1, scale=10, size=(1000, 50))\n",
    "print X"
   ]
  },
  {
   "cell_type": "markdown",
   "metadata": {},
   "source": [
    "**Нормировка матрицы**\n",
    "\n",
    "Произведите нормировку матрицы из предыдущего задания: вычтите из каждого столбца его среднее значение, а затем поделите на его стандартное отклонение.\n",
    "\n",
    "Функция для вычисления среднего: [numpy.mean](http://docs.scipy.org/doc/numpy/reference/generated/numpy.mean.html)\n",
    "\n",
    "Функция для вычисления стандартного отклонения: [numpy.std](http://docs.scipy.org/doc/numpy/reference/generated/numpy.std.html)\n",
    "\n",
    "Первый параметр — матрица, для которой производятся вычисления. Также полезным будет параметр `axis`, который указывает, по какому измерению вычисляются среднее и стандартное отклонение (если `axis=0`, то по столбцам, если `axis=1`, то по строкам; если его не указывать, то данные величины будут вычислены по всей матрице).\n",
    "\n",
    "***Код для самопроверки***"
   ]
  },
  {
   "cell_type": "code",
   "execution_count": null,
   "metadata": {
    "collapsed": false
   },
   "outputs": [],
   "source": [
    "m = numpy.mean(X, axis=0)\n",
    "std = numpy.std(X, axis=0)\n",
    "X_norm = (X - m) / std\n",
    "print X_norm"
   ]
  },
  {
   "cell_type": "markdown",
   "metadata": {},
   "source": [
    "**Операции над элементами матрицы**\n",
    "\n",
    "Выведите для заданной матрицы номера строк, сумма элементов в которых превосходит 10.\n",
    "\n",
    "Функция для подсчета суммы: [numpy.sum](http://docs.scipy.org/doc/numpy/reference/generated/numpy.sum.html)\n",
    "\n",
    "Аргументы аналогичны функциям [numpy.mean](http://docs.scipy.org/doc/numpy/reference/generated/numpy.mean.html) и [numpy.std](http://docs.scipy.org/doc/numpy/reference/generated/numpy.std.html).\n",
    "\n",
    "К матрицам можно применять логические операции, которые будут применяться поэлементно. Соответственно, результатом такой операции будет матрица такого же размера, в ячейках которой будет записано либо `True`, либо `False`. Индексы элементов со значением `True` можно получить с помощью функции [numpy.nonzero](http://docs.scipy.org/doc/numpy/reference/generated/numpy.nonzero.html).\n",
    "\n",
    "***Заданная матрица***"
   ]
  },
  {
   "cell_type": "code",
   "execution_count": null,
   "metadata": {
    "collapsed": false
   },
   "outputs": [],
   "source": [
    "Z = numpy.array([[4, 5, 0],\n",
    "                 [1, 9, 3],\n",
    "                 [5, 1, 1],\n",
    "                 [3, 3, 3],\n",
    "                 [9, 9, 9],\n",
    "                 [4, 7, 1]])"
   ]
  },
  {
   "cell_type": "markdown",
   "metadata": {},
   "source": [
    "***Код для самопроверки***"
   ]
  },
  {
   "cell_type": "code",
   "execution_count": null,
   "metadata": {
    "collapsed": false
   },
   "outputs": [],
   "source": [
    "r = numpy.sum(Z, axis=1)\n",
    "print numpy.nonzero(r > 10)"
   ]
  },
  {
   "cell_type": "markdown",
   "metadata": {},
   "source": [
    "**Ввод больших матриц**\n",
    "\n",
    "Введите матрицу используя удобные инструменты.\n",
    "\n",
    "Функция для ввода матриц из строк: [numpy.mat](http://docs.scipy.org/doc/numpy/reference/generated/numpy.mat.html)\n",
    "\n",
    "Аргумент: строка, массив или другая матрица\n",
    "\n",
    "***Код для самопроверки***"
   ]
  },
  {
   "cell_type": "code",
   "execution_count": null,
   "metadata": {
    "collapsed": false
   },
   "outputs": [],
   "source": [
    "numpy.array(numpy.mat('4 5 0; 1 9 3; 5 1 1; 3 3 3; 9 9 9; 4 7 1'))"
   ]
  },
  {
   "cell_type": "markdown",
   "metadata": {},
   "source": [
    "**Объединение матриц**\n",
    "\n",
    "Сгенерируйте две _единичные_ матрицы (т.е. с единицами на диагонали) размера `3x3`. Соедините две матрицы в одну размера `6x3`.\n",
    "\n",
    "Функция для генерации единичной матрицы: [numpy.eye](http://docs.scipy.org/doc/numpy/reference/generated/numpy.eye.html)\n",
    "\n",
    "Аргумент: число строк (или, что эквивалентно, столбцов).\n",
    "\n",
    "Функция для вертикальной стыковки матриц: [numpy.vstack((A, B))](http://docs.scipy.org/doc/numpy/reference/generated/numpy.vstack.html)\n",
    "\n",
    "***Код для самопроверки***"
   ]
  },
  {
   "cell_type": "code",
   "execution_count": null,
   "metadata": {
    "collapsed": false
   },
   "outputs": [],
   "source": [
    "A = numpy.eye(3)\n",
    "B = numpy.eye(3)\n",
    "print A\n",
    "print B"
   ]
  },
  {
   "cell_type": "code",
   "execution_count": null,
   "metadata": {
    "collapsed": false
   },
   "outputs": [],
   "source": [
    "AB = numpy.vstack((A, B))\n",
    "print AB"
   ]
  }
 ],
 "metadata": {
  "kernelspec": {
   "display_name": "Python 2",
   "language": "python",
   "name": "python2"
  },
  "language_info": {
   "codemirror_mode": {
    "name": "ipython",
    "version": 2
   },
   "file_extension": ".py",
   "mimetype": "text/x-python",
   "name": "python",
   "nbconvert_exporter": "python",
   "pygments_lexer": "ipython2",
   "version": "2.7.13"
  }
 },
 "nbformat": 4,
 "nbformat_minor": 0
}
